{
 "cells": [
  {
   "cell_type": "code",
   "execution_count": 1,
   "id": "d01363fb",
   "metadata": {},
   "outputs": [],
   "source": [
    "import pandas as pd\n",
    "from datetime import datetime\n",
    "\n",
    "# Load the CSV file into a DataFrame\n",
    "file_path = 'input_data.csv' \n",
    "df = pd.read_csv(file_path)\n",
    "\n",
    "\n"
   ]
  },
  {
   "cell_type": "code",
   "execution_count": 3,
   "id": "178624db",
   "metadata": {},
   "outputs": [],
   "source": [
    "# Specify the column containing date strings\n",
    "date_column = 'Time'\n",
    "\n",
    "# Define the input and output date formats\n",
    "input_format = '%m/%d/%Y %H:%M'\n",
    "output_format = '%Y-%m-%dT%H:%M'"
   ]
  },
  {
   "cell_type": "code",
   "execution_count": 4,
   "id": "1ae6ec40",
   "metadata": {},
   "outputs": [],
   "source": [
    "# Convert the entire date column to the ISO 8601 format\n",
    "df[date_column] = pd.to_datetime(df[date_column], format=input_format).dt.strftime(output_format)\n",
    "\n",
    "# Save the modified DataFrame to a new CSV file or overwrite the existing one\n",
    "output_file_path = 'input_data_formatted.csv' \n",
    "df.to_csv(output_file_path, index=False)"
   ]
  },
  {
   "cell_type": "code",
   "execution_count": null,
   "id": "804ff50e",
   "metadata": {},
   "outputs": [],
   "source": []
  }
 ],
 "metadata": {
  "kernelspec": {
   "display_name": "Python 3 (ipykernel)",
   "language": "python",
   "name": "python3"
  },
  "language_info": {
   "codemirror_mode": {
    "name": "ipython",
    "version": 3
   },
   "file_extension": ".py",
   "mimetype": "text/x-python",
   "name": "python",
   "nbconvert_exporter": "python",
   "pygments_lexer": "ipython3",
   "version": "3.11.5"
  }
 },
 "nbformat": 4,
 "nbformat_minor": 5
}
